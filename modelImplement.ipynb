{
 "cells": [
  {
   "cell_type": "code",
   "execution_count": 1,
   "id": "80193b6b",
   "metadata": {},
   "outputs": [],
   "source": [
    "from joblib import load\n",
    "model=load('modelimp.joblib')"
   ]
  },
  {
   "cell_type": "code",
   "execution_count": 3,
   "id": "64c878c5",
   "metadata": {},
   "outputs": [
    {
     "data": {
      "text/plain": [
       "array([[0.82941983, 0.14685381, 0.02372636],\n",
       "       [0.84223454, 0.12805801, 0.02970745]])"
      ]
     },
     "execution_count": 3,
     "metadata": {},
     "output_type": "execute_result"
    }
   ],
   "source": [
    "import numpy as np\n",
    "y=np.array(([33,33,33,33],[34,32,22,30]))\n",
    "model.predict_proba(y)"
   ]
  }
 ],
 "metadata": {
  "kernelspec": {
   "display_name": "Python 3 (ipykernel)",
   "language": "python",
   "name": "python3"
  },
  "language_info": {
   "codemirror_mode": {
    "name": "ipython",
    "version": 3
   },
   "file_extension": ".py",
   "mimetype": "text/x-python",
   "name": "python",
   "nbconvert_exporter": "python",
   "pygments_lexer": "ipython3",
   "version": "3.9.6"
  }
 },
 "nbformat": 4,
 "nbformat_minor": 5
}
